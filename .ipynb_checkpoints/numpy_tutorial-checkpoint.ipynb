{
 "cells": [
  {
   "cell_type": "markdown",
   "metadata": {},
   "source": [
    "# A QUICK NUMPY TUTORIAL FOR ML"
   ]
  },
  {
   "cell_type": "code",
   "execution_count": 1,
   "metadata": {},
   "outputs": [],
   "source": [
    "import numpy as np"
   ]
  },
  {
   "cell_type": "markdown",
   "metadata": {},
   "source": [
    "### **np.array()** is used to create arrays"
   ]
  },
  {
   "cell_type": "code",
   "execution_count": 19,
   "metadata": {},
   "outputs": [
    {
     "name": "stdout",
     "output_type": "stream",
     "text": [
      "1D arr:\n",
      " [1.2 2.4 3.5 4.7 6.1 7.2 8.3 9.5]\n",
      "\n",
      "\n",
      "2D arr:\n",
      " [[ 6  5]\n",
      " [11  7]\n",
      " [ 4  8]]\n"
     ]
    }
   ],
   "source": [
    "# create a 1D array, one set of [] square brackets\n",
    "one_dimensional_array = np.array([1.2, 2.4, 3.5, 4.7, 6.1, 7.2, 8.3, 9.5])\n",
    "print(\"1D arr:\\n\", one_dimensional_array)\n",
    "print(\"\\n\")\n",
    "\n",
    "# create a 2D array, two sets of [] square brackets\n",
    "two_dimensional_array = np.array([[6, 5], [11, 7], [4, 8]])\n",
    "print(\"2D arr:\\n\", two_dimensional_array)"
   ]
  },
  {
   "cell_type": "markdown",
   "metadata": {},
   "source": [
    "### **np.zeros()** is used to create an array of 0's\n",
    "### **np.ones()** is used to create an array of 1's"
   ]
  },
  {
   "cell_type": "code",
   "execution_count": 26,
   "metadata": {},
   "outputs": [
    {
     "name": "stdout",
     "output_type": "stream",
     "text": [
      "ZEROS:\n",
      " [[0. 0. 0. 0. 0. 0.]\n",
      " [0. 0. 0. 0. 0. 0.]\n",
      " [0. 0. 0. 0. 0. 0.]\n",
      " [0. 0. 0. 0. 0. 0.]\n",
      " [0. 0. 0. 0. 0. 0.]\n",
      " [0. 0. 0. 0. 0. 0.]\n",
      " [0. 0. 0. 0. 0. 0.]\n",
      " [0. 0. 0. 0. 0. 0.]\n",
      " [0. 0. 0. 0. 0. 0.]\n",
      " [0. 0. 0. 0. 0. 0.]]\n",
      "\n",
      "\n",
      "ONES:\n",
      " [1. 1. 1. 1. 1. 1. 1. 1. 1. 1.]\n"
     ]
    }
   ],
   "source": [
    "zeros = np.zeros([10,6])\n",
    "print(\"ZEROS:\\n\", zeros)\n",
    "print(\"\\n\")\n",
    "\n",
    "ones = np.ones([10])\n",
    "print(\"ONES:\\n\", ones)"
   ]
  },
  {
   "cell_type": "markdown",
   "metadata": {},
   "source": [
    "### **np.arange()** is used to generated a sequence of numbers\n",
    "note the upper value is not included"
   ]
  },
  {
   "cell_type": "code",
   "execution_count": 32,
   "metadata": {},
   "outputs": [
    {
     "name": "stdout",
     "output_type": "stream",
     "text": [
      "[ 5  6  7  8  9 10 11]\n"
     ]
    }
   ],
   "source": [
    "sequence_of_integers = np.arange(5, 12)\n",
    "print(sequence_of_integers)"
   ]
  },
  {
   "cell_type": "markdown",
   "metadata": {},
   "source": [
    "### **np.random.randint()** is used to generate an array of random number"
   ]
  },
  {
   "cell_type": "code",
   "execution_count": 33,
   "metadata": {},
   "outputs": [
    {
     "name": "stdout",
     "output_type": "stream",
     "text": [
      "[80 66 73 57 58 88]\n"
     ]
    }
   ],
   "source": [
    "random_integers_between_50_and_100 = np.random.randint(low=50, high=101, size=(6))\n",
    "print(random_integers_between_50_and_100)"
   ]
  },
  {
   "cell_type": "markdown",
   "metadata": {},
   "source": [
    "### **np.random.random()** is used to generate a random floating points"
   ]
  },
  {
   "cell_type": "code",
   "execution_count": 34,
   "metadata": {},
   "outputs": [
    {
     "name": "stdout",
     "output_type": "stream",
     "text": [
      "[0.86410245 0.47555714 0.22403179 0.76961773 0.25568109 0.57082969]\n"
     ]
    }
   ],
   "source": [
    "random_floats_between_0_and_1 = np.random.random([6])\n",
    "print(random_floats_between_0_and_1)"
   ]
  },
  {
   "cell_type": "markdown",
   "metadata": {},
   "source": [
    "## Mathematical Operations on NumPy Operands"
   ]
  },
  {
   "cell_type": "markdown",
   "metadata": {},
   "source": [
    "In mathematics an **operand** is the object of a mathematical operation, i.e., it is the object or quantity that is operated on.\n",
    "\n",
    "Linear algebra requires that the two operands have the same dimensions during addition and subtraction. \n",
    "Furthermore, if you want to multiply two vectors or matrices, linear algebra imposes strict rules on the dimensional compatibility of operands.\n",
    "\n",
    "However NumPy uses **broadcasting** which expands the smaller operand to a compatible dimension"
   ]
  },
  {
   "cell_type": "code",
   "execution_count": null,
   "metadata": {},
   "outputs": [],
   "source": []
  }
 ],
 "metadata": {
  "kernelspec": {
   "display_name": "Python 3",
   "language": "python",
   "name": "python3"
  },
  "language_info": {
   "codemirror_mode": {
    "name": "ipython",
    "version": 3
   },
   "file_extension": ".py",
   "mimetype": "text/x-python",
   "name": "python",
   "nbconvert_exporter": "python",
   "pygments_lexer": "ipython3",
   "version": "3.7.7"
  }
 },
 "nbformat": 4,
 "nbformat_minor": 4
}
